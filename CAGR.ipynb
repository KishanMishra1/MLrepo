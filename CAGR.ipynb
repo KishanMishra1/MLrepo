{
 "cells": [
  {
   "cell_type": "code",
   "execution_count": 1,
   "id": "eb026be4",
   "metadata": {},
   "outputs": [
    {
     "name": "stdout",
     "output_type": "stream",
     "text": [
      "[*********************100%***********************]  1 of 1 completed\n",
      "[*********************100%***********************]  1 of 1 completed\n",
      "[*********************100%***********************]  1 of 1 completed\n",
      "CAGR of AMZN = -0.5939677111445834\n",
      "CAGR of GOOG = -0.5235821448507271\n",
      "CAGR of MSFT = -0.39835860665908795\n"
     ]
    }
   ],
   "source": [
    "import yfinance as yf\n",
    "\n",
    "# Download historical data for required stocks\n",
    "tickers = [\"AMZN\",\"GOOG\",\"MSFT\"]\n",
    "ohlcv_data = {}\n",
    "\n",
    "# looping over tickers and storing OHLCV dataframe in dictionary\n",
    "for ticker in tickers:\n",
    "    temp = yf.download(ticker,period='7mo',interval='1d')\n",
    "    temp.dropna(how=\"any\",inplace=True)\n",
    "    ohlcv_data[ticker] = temp\n",
    "\n",
    "def CAGR(DF):\n",
    "    \"function to calculate the Cumulative Annual Growth Rate of a trading strategy\"\n",
    "    df = DF.copy()\n",
    "    df[\"return\"] = DF[\"Adj Close\"].pct_change()\n",
    "    df[\"cum_return\"] = (1 + df[\"return\"]).cumprod()\n",
    "    n = len(df)/252\n",
    "    CAGR = (df[\"cum_return\"][-1])**(1/n) - 1\n",
    "    return CAGR\n",
    "\n",
    "for ticker in ohlcv_data:\n",
    "    print(\"CAGR of {} = {}\".format(ticker,CAGR(ohlcv_data[ticker])))"
   ]
  },
  {
   "cell_type": "code",
   "execution_count": null,
   "id": "e1756d44",
   "metadata": {},
   "outputs": [],
   "source": []
  }
 ],
 "metadata": {
  "kernelspec": {
   "display_name": "Python 3 (ipykernel)",
   "language": "python",
   "name": "python3"
  },
  "language_info": {
   "codemirror_mode": {
    "name": "ipython",
    "version": 3
   },
   "file_extension": ".py",
   "mimetype": "text/x-python",
   "name": "python",
   "nbconvert_exporter": "python",
   "pygments_lexer": "ipython3",
   "version": "3.8.13"
  }
 },
 "nbformat": 4,
 "nbformat_minor": 5
}
