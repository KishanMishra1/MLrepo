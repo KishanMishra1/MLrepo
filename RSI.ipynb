{
 "cells": [
  {
   "cell_type": "code",
   "execution_count": 1,
   "id": "b3e4f6bc",
   "metadata": {},
   "outputs": [
    {
     "name": "stdout",
     "output_type": "stream",
     "text": [
      "[*********************100%***********************]  1 of 1 completed\n",
      "[*********************100%***********************]  1 of 1 completed\n",
      "[*********************100%***********************]  1 of 1 completed\n"
     ]
    }
   ],
   "source": [
    "import yfinance as yf\n",
    "import numpy as np\n",
    "\n",
    "# Download historical data for required stocks\n",
    "tickers = [\"AMZN\",\"GOOG\",\"MSFT\"]\n",
    "ohlcv_data = {}\n",
    "\n",
    "# looping over tickers and storing OHLCV dataframe in dictionary\n",
    "for ticker in tickers:\n",
    "    temp = yf.download(ticker,period='1mo',interval='5m')\n",
    "    temp.dropna(how=\"any\",inplace=True)\n",
    "    ohlcv_data[ticker] = temp\n",
    "    \n",
    "def RSI(DF, n=14):\n",
    "    \"function to calculate RSI\"\n",
    "    df = DF.copy()\n",
    "    df[\"change\"] = df[\"Adj Close\"] - df[\"Adj Close\"].shift(1)\n",
    "    df[\"gain\"] = np.where(df[\"change\"]>=0, df[\"change\"], 0)\n",
    "    df[\"loss\"] = np.where(df[\"change\"]<0, -1*df[\"change\"], 0)\n",
    "    df[\"avgGain\"] = df[\"gain\"].ewm(alpha=1/n, min_periods=n).mean()\n",
    "    df[\"avgLoss\"] = df[\"loss\"].ewm(alpha=1/n, min_periods=n).mean()\n",
    "    df[\"rs\"] = df[\"avgGain\"]/df[\"avgLoss\"]\n",
    "    df[\"rsi\"] = 100 - (100/ (1 + df[\"rs\"]))\n",
    "    return df[\"rsi\"]\n",
    "\n",
    "\n",
    "for ticker in ohlcv_data:\n",
    "    ohlcv_data[ticker][\"RSI\"] = RSI(ohlcv_data[ticker])\n",
    "    "
   ]
  },
  {
   "cell_type": "code",
   "execution_count": null,
   "id": "3c01302e",
   "metadata": {},
   "outputs": [],
   "source": [
    "ohlcv_data[]"
   ]
  }
 ],
 "metadata": {
  "kernelspec": {
   "display_name": "Python 3 (ipykernel)",
   "language": "python",
   "name": "python3"
  },
  "language_info": {
   "codemirror_mode": {
    "name": "ipython",
    "version": 3
   },
   "file_extension": ".py",
   "mimetype": "text/x-python",
   "name": "python",
   "nbconvert_exporter": "python",
   "pygments_lexer": "ipython3",
   "version": "3.8.13"
  }
 },
 "nbformat": 4,
 "nbformat_minor": 5
}
