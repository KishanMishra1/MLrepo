{
 "cells": [
  {
   "cell_type": "code",
   "execution_count": 1,
   "id": "e151a0f9",
   "metadata": {},
   "outputs": [
    {
     "name": "stdout",
     "output_type": "stream",
     "text": [
      "[*********************100%***********************]  1 of 1 completed\n",
      "[*********************100%***********************]  1 of 1 completed\n",
      "[*********************100%***********************]  1 of 1 completed\n",
      "Sharpe of AMZN = -1.2436178507882942\n",
      "Sortino of AMZN = -1.7741652322240316\n",
      "Sharpe of GOOG = -1.4372461904576\n",
      "Sortino of GOOG = -2.172168081783499\n",
      "Sharpe of MSFT = -1.2483179419268833\n",
      "Sortino of MSFT = -1.8507667791472753\n"
     ]
    }
   ],
   "source": [
    "import yfinance as yf\n",
    "import pandas as pd\n",
    "import numpy as np\n",
    "\n",
    "# Download historical data for required stocks\n",
    "tickers = [\"AMZN\",\"GOOG\",\"MSFT\"]\n",
    "ohlcv_data = {}\n",
    "\n",
    "# looping over tickers and storing OHLCV dataframe in dictionary\n",
    "for ticker in tickers:\n",
    "    temp = yf.download(ticker,period='7mo',interval='1d')\n",
    "    temp.dropna(how=\"any\",inplace=True)\n",
    "    ohlcv_data[ticker] = temp\n",
    "    \n",
    "def CAGR(DF):\n",
    "    \"function to calculate the Cumulative Annual Growth Rate of a trading strategy\"\n",
    "    df = DF.copy()\n",
    "    df[\"return\"] = DF[\"Adj Close\"].pct_change()\n",
    "    df[\"cum_return\"] = (1 + df[\"return\"]).cumprod()\n",
    "    n = len(df)/252\n",
    "    CAGR = (df[\"cum_return\"][-1])**(1/n) - 1\n",
    "    return CAGR\n",
    "    \n",
    "def volatility(DF):\n",
    "    \"function to calculate annualized volatility of a trading strategy\"\n",
    "    df = DF.copy()\n",
    "    df[\"return\"] = df[\"Adj Close\"].pct_change()\n",
    "    vol = df[\"return\"].std() * np.sqrt(252)\n",
    "    return vol\n",
    "\n",
    "def sharpe(DF, rf):\n",
    "    \"function to calculate Sharpe Ratio of a trading strategy\"\n",
    "    df = DF.copy()\n",
    "    return (CAGR(df) - rf)/volatility(df)\n",
    "\n",
    "def sortino(DF, rf):\n",
    "    \"function to calculate Sortino Ratio of a trading strategy\"\n",
    "    df = DF.copy()\n",
    "    df[\"return\"] = df[\"Adj Close\"].pct_change()\n",
    "    neg_return = np.where(df[\"return\"]>0,0,df[\"return\"])\n",
    "    neg_vol = pd.Series(neg_return[neg_return!=0]).std() * np.sqrt(252)\n",
    "    return (CAGR(df) - rf)/neg_vol\n",
    "\n",
    "for ticker in ohlcv_data:\n",
    "    print(\"Sharpe of {} = {}\".format(ticker,sharpe(ohlcv_data[ticker],0.03)))\n",
    "    print(\"Sortino of {} = {}\".format(ticker,sortino(ohlcv_data[ticker],0.03)))"
   ]
  },
  {
   "cell_type": "code",
   "execution_count": null,
   "id": "b1a89f73",
   "metadata": {},
   "outputs": [],
   "source": []
  }
 ],
 "metadata": {
  "kernelspec": {
   "display_name": "Python 3 (ipykernel)",
   "language": "python",
   "name": "python3"
  },
  "language_info": {
   "codemirror_mode": {
    "name": "ipython",
    "version": 3
   },
   "file_extension": ".py",
   "mimetype": "text/x-python",
   "name": "python",
   "nbconvert_exporter": "python",
   "pygments_lexer": "ipython3",
   "version": "3.8.13"
  }
 },
 "nbformat": 4,
 "nbformat_minor": 5
}
