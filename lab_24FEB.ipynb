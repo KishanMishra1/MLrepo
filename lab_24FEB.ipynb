{
 "cells": [
  {
   "cell_type": "code",
   "execution_count": 1,
   "id": "fb6d52d7",
   "metadata": {},
   "outputs": [],
   "source": [
    "#Comute length n  = log((xu-xl)/precision)\n",
    "#Encode to binary"
   ]
  },
  {
   "cell_type": "markdown",
   "id": "0cdee8ca",
   "metadata": {},
   "source": [
    "## Binary Encoding"
   ]
  },
  {
   "cell_type": "code",
   "execution_count": 16,
   "id": "488df91c",
   "metadata": {},
   "outputs": [
    {
     "name": "stdout",
     "output_type": "stream",
     "text": [
      "Number of candidate : 5\n",
      "StringNo: 1  Decimal Value: 19  Encoded Value: [1, 0, 0, 1, 1]\n",
      "StringNo: 2  Decimal Value: 17  Encoded Value: [1, 0, 0, 0, 1]\n",
      "StringNo: 3  Decimal Value: 14  Encoded Value: [0, 1, 1, 1, 0]\n",
      "StringNo: 4  Decimal Value: 16  Encoded Value: [1, 0, 0, 0, 0]\n",
      "StringNo: 5  Decimal Value: 18  Encoded Value: [1, 0, 0, 1, 0]\n",
      "StringNo: 6  Decimal Value: 14  Encoded Value: [0, 1, 1, 1, 0]\n",
      "StringNo: 7  Decimal Value: 15  Encoded Value: [0, 1, 1, 1, 1]\n",
      "StringNo: 8  Decimal Value: 19  Encoded Value: [1, 0, 0, 1, 1]\n",
      "StringNo: 9  Decimal Value: 16  Encoded Value: [1, 0, 0, 0, 0]\n",
      "StringNo: 10  Decimal Value: 16  Encoded Value: [1, 0, 0, 0, 0]\n",
      "StringNo: 11  Decimal Value: 10  Encoded Value: [0, 1, 0, 1, 0]\n",
      "StringNo: 12  Decimal Value: 13  Encoded Value: [0, 1, 1, 0, 1]\n",
      "StringNo: 13  Decimal Value: 12  Encoded Value: [0, 1, 1, 0, 0]\n",
      "StringNo: 14  Decimal Value: 17  Encoded Value: [1, 0, 0, 0, 1]\n",
      "StringNo: 15  Decimal Value: 13  Encoded Value: [0, 1, 1, 0, 1]\n",
      "StringNo: 16  Decimal Value: 12  Encoded Value: [0, 1, 1, 0, 0]\n",
      "StringNo: 17  Decimal Value: 10  Encoded Value: [0, 1, 0, 1, 0]\n",
      "StringNo: 18  Decimal Value: 10  Encoded Value: [0, 1, 0, 1, 0]\n",
      "StringNo: 19  Decimal Value: 18  Encoded Value: [1, 0, 0, 1, 0]\n",
      "StringNo: 20  Decimal Value: 16  Encoded Value: [1, 0, 0, 0, 0]\n"
     ]
    }
   ],
   "source": [
    "import math\n",
    "import random\n",
    "\n",
    "\n",
    "def Binary(n,length):\n",
    "    res=[]\n",
    "    i = 0;\n",
    "    while (n > 0):\n",
    "        res.append((n % 2));\n",
    "        n = int(n / 2);\n",
    "        i += 1;\n",
    "    return [0]*(length-len(res))+res[::-1]\n",
    "\n",
    "\n",
    "\n",
    "if __name__=='__main__':\n",
    "    lower_limit=0\n",
    "    upper_limit=25\n",
    "    prec=1\n",
    "    \n",
    "    no_of_candidates=math.ceil(math.log2((upper_limit-lower_limit)/prec))\n",
    "    print('Number of candidate :',no_of_candidates)\n",
    "    \n",
    "    population=20\n",
    "    \n",
    "    candidates=[ random.randrange(10,20) for _ in range(population)]\n",
    "    \n",
    "    encoded_soln=[[0]]*(population)\n",
    "\n",
    "    for i in range(population):\n",
    "        encoded_soln[i]=Binary(candidates[i],no_of_candidates)\n",
    "        \n",
    "    \n",
    "    for itr,val in enumerate(zip(candidates,encoded_soln)):\n",
    "        print(f'StringNo: {itr+1}  Decimal Value: {val[0]}  Encoded Value: {val[1]}')\n",
    "    \n",
    "    \n",
    "    \n",
    "    \n"
   ]
  },
  {
   "cell_type": "markdown",
   "id": "01b4e0ed",
   "metadata": {},
   "source": [
    "## Roulette Wheel Selection"
   ]
  },
  {
   "cell_type": "code",
   "execution_count": 22,
   "id": "1610c082",
   "metadata": {},
   "outputs": [
    {
     "name": "stdout",
     "output_type": "stream",
     "text": [
      "Population Size :  20\n",
      "StringNo: 0  Decimal Value: 19 Encoded Value: [1, 0, 0, 1, 1] Fitness Value: 361 Probability :0.08\n",
      "StringNo: 1  Decimal Value: 17 Encoded Value: [1, 0, 0, 0, 1] Fitness Value: 289 Probability :0.064\n",
      "StringNo: 2  Decimal Value: 14 Encoded Value: [0, 1, 1, 1, 0] Fitness Value: 196 Probability :0.043\n",
      "StringNo: 3  Decimal Value: 16 Encoded Value: [1, 0, 0, 0, 0] Fitness Value: 256 Probability :0.057\n",
      "StringNo: 4  Decimal Value: 18 Encoded Value: [1, 0, 0, 1, 0] Fitness Value: 324 Probability :0.072\n",
      "StringNo: 5  Decimal Value: 14 Encoded Value: [0, 1, 1, 1, 0] Fitness Value: 196 Probability :0.043\n",
      "StringNo: 6  Decimal Value: 15 Encoded Value: [0, 1, 1, 1, 1] Fitness Value: 225 Probability :0.05\n",
      "StringNo: 7  Decimal Value: 19 Encoded Value: [1, 0, 0, 1, 1] Fitness Value: 361 Probability :0.08\n",
      "StringNo: 8  Decimal Value: 16 Encoded Value: [1, 0, 0, 0, 0] Fitness Value: 256 Probability :0.057\n",
      "StringNo: 9  Decimal Value: 16 Encoded Value: [1, 0, 0, 0, 0] Fitness Value: 256 Probability :0.057\n",
      "StringNo: 10  Decimal Value: 10 Encoded Value: [0, 1, 0, 1, 0] Fitness Value: 100 Probability :0.022\n",
      "StringNo: 11  Decimal Value: 13 Encoded Value: [0, 1, 1, 0, 1] Fitness Value: 169 Probability :0.037\n",
      "StringNo: 12  Decimal Value: 12 Encoded Value: [0, 1, 1, 0, 0] Fitness Value: 144 Probability :0.032\n",
      "StringNo: 13  Decimal Value: 17 Encoded Value: [1, 0, 0, 0, 1] Fitness Value: 289 Probability :0.064\n",
      "StringNo: 14  Decimal Value: 13 Encoded Value: [0, 1, 1, 0, 1] Fitness Value: 169 Probability :0.037\n",
      "StringNo: 15  Decimal Value: 12 Encoded Value: [0, 1, 1, 0, 0] Fitness Value: 144 Probability :0.032\n",
      "StringNo: 16  Decimal Value: 10 Encoded Value: [0, 1, 0, 1, 0] Fitness Value: 100 Probability :0.022\n",
      "StringNo: 17  Decimal Value: 10 Encoded Value: [0, 1, 0, 1, 0] Fitness Value: 100 Probability :0.022\n",
      "StringNo: 18  Decimal Value: 18 Encoded Value: [1, 0, 0, 1, 0] Fitness Value: 324 Probability :0.072\n",
      "StringNo: 19  Decimal Value: 16 Encoded Value: [1, 0, 0, 0, 0] Fitness Value: 256 Probability :0.057\n",
      "\n",
      "Cummulative Probabilities [[0, 0.08], [0.08, 0.14400000000000002], [0.14400000000000002, 0.187], [0.187, 0.244], [0.244, 0.316], [0.316, 0.359], [0.359, 0.409], [0.409, 0.489], [0.489, 0.546], [0.546, 0.6030000000000001], [0.6030000000000001, 0.6250000000000001], [0.6250000000000001, 0.6620000000000001], [0.6620000000000001, 0.6940000000000002], [0.6940000000000002, 0.7580000000000002], [0.7580000000000002, 0.7950000000000003], [0.7950000000000003, 0.8270000000000003], [0.8270000000000003, 0.8490000000000003], [0.8490000000000003, 0.8710000000000003], [0.8710000000000003, 0.9430000000000003], [0.9430000000000003, 1.0000000000000002]]\n"
     ]
    }
   ],
   "source": [
    "def f(x):\n",
    "    return pow(x,2)\n",
    "\n",
    "\n",
    "def cumm_prob(arr):\n",
    "    res=[]\n",
    "    cumm_prob=[]\n",
    "    k=len(arr)\n",
    "    i=0\n",
    "    while(i<len(arr)+2):\n",
    "        sumx=sum(arr[:i])\n",
    "\n",
    "        if len(res)==2:\n",
    "            cumm_prob.append(res)\n",
    "            i-=2\n",
    "            res=[]\n",
    "        elif len(res)<2:\n",
    "            res.append(sumx)\n",
    "\n",
    "        i+=1\n",
    "    return cumm_prob\n",
    "    \n",
    "        \n",
    "\n",
    "def fitness(x):\n",
    "    return f(x)\n",
    "\n",
    "fitness_val=[]\n",
    "for i in candidates:\n",
    "    fitness_val.append(fitness(i))\n",
    "\n",
    "sum_of_fitness=sum(fitness(x) for x in candidates)\n",
    "#print('Sum of Fitness',sum_of_fitness)\n",
    "\n",
    "fitness_prob=[0]*population\n",
    "for i in range(population):\n",
    "    fitness_prob[i]=round(fitness_val[i]/sum_of_fitness,3)\n",
    "\n",
    "print('Population Size : ',population)\n",
    "for itr,val in enumerate(zip(candidates,encoded_soln,fitness_val,fitness_prob)):\n",
    "        print(f'StringNo: {itr}  Decimal Value: {val[0]} Encoded Value: {val[1]} Fitness Value: {val[2]} Probability :{val[3]}')\n",
    "\n",
    "\n",
    "\n",
    "cumm_probabilities=cumm_prob(fitness_prob)\n",
    "\n",
    "print('\\nCummulative Probabilities',cumm_probabilities)\n",
    "\n",
    "# sel=float(input('Choose a decimal value (0-1) :'))\n",
    "\n",
    "# for i in range(len(cumm_probabilities)):\n",
    "    \n",
    "#     if sel >=cumm_probabilities[i][0] and sel<=cumm_probabilities[i][1]:\n",
    "#         #print(cumm_probabilities[i][0],cumm_probabilities[i][1],i)\n",
    "#         print(f'Selected Decimal Value : {candidates[i]} , corresponding Encoded Value :{encoded_soln[i]}')\n",
    "        "
   ]
  },
  {
   "cell_type": "code",
   "execution_count": 35,
   "id": "f2bca43d",
   "metadata": {},
   "outputs": [],
   "source": [
    "# Mating pool\n",
    "mating_pool=[]\n",
    "for i in range(population):\n",
    "    rx=random.random()\n",
    "    for j in range(len(cumm_probabilities)):\n",
    "        if rx >=cumm_probabilities[i][0] and sel<=cumm_probabilities[i][1]:\n",
    "            mating_pool.append(candidates[i])\n",
    "mating_pool=random.sample(mating_pool,population)"
   ]
  },
  {
   "cell_type": "markdown",
   "id": "6b674c42",
   "metadata": {},
   "source": [
    "## ONE POINT CROSSOvER"
   ]
  },
  {
   "cell_type": "code",
   "execution_count": 13,
   "id": "9cbc9ba4",
   "metadata": {},
   "outputs": [
    {
     "name": "stdout",
     "output_type": "stream",
     "text": [
      "_______ Parent Chromosomes |_____\n",
      "Papa :19 Encoded_val :[1, 0, 0, 1, 1]\n",
      "Mumma :12 Encoded_val :[0, 1, 1, 0, 0]\n"
     ]
    }
   ],
   "source": [
    "import random\n",
    "\n",
    "\n",
    "def crossover(p,m,flips):\n",
    "    pass\n",
    "\n",
    "\n",
    "\n",
    "if __name__=='__main__':\n",
    "    \n",
    "    "
   ]
  },
  {
   "cell_type": "code",
   "execution_count": null,
   "id": "b7411628",
   "metadata": {},
   "outputs": [],
   "source": []
  }
 ],
 "metadata": {
  "kernelspec": {
   "display_name": "Python 3 (ipykernel)",
   "language": "python",
   "name": "python3"
  },
  "language_info": {
   "codemirror_mode": {
    "name": "ipython",
    "version": 3
   },
   "file_extension": ".py",
   "mimetype": "text/x-python",
   "name": "python",
   "nbconvert_exporter": "python",
   "pygments_lexer": "ipython3",
   "version": "3.9.13"
  }
 },
 "nbformat": 4,
 "nbformat_minor": 5
}
