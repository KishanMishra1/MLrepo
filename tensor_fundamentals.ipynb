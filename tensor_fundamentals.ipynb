{
 "cells": [
  {
   "cell_type": "markdown",
   "id": "12a33984",
   "metadata": {},
   "source": [
    "# Introduction to Tensors , manipulating tensors, tensors and numpy and @tf.function."
   ]
  },
  {
   "cell_type": "code",
   "execution_count": null,
   "id": "448eda22",
   "metadata": {},
   "outputs": [],
   "source": [
    "@Author: KishanMishra"
   ]
  },
  {
   "cell_type": "code",
   "execution_count": 29,
   "id": "d2682fec",
   "metadata": {},
   "outputs": [
    {
     "name": "stdout",
     "output_type": "stream",
     "text": [
      "2.10.0\n"
     ]
    }
   ],
   "source": [
    "#Import tensorflow\n",
    "import warnings\n",
    "warnings.filterwarnings(\"ignore\")\n",
    "import tensorflow as tf\n",
    "import numpy as np\n",
    "print(tf.__version__)"
   ]
  },
  {
   "cell_type": "code",
   "execution_count": 6,
   "id": "574cbf96",
   "metadata": {},
   "outputs": [
    {
     "data": {
      "text/plain": [
       "<tf.Tensor: shape=(), dtype=int32, numpy=7>"
      ]
     },
     "execution_count": 6,
     "metadata": {},
     "output_type": "execute_result"
    }
   ],
   "source": [
    "# Creating scalar with tf.constant()\n",
    "\n",
    "scalar=tf.constant(7)\n",
    "scalar"
   ]
  },
  {
   "cell_type": "code",
   "execution_count": 7,
   "id": "15ebee2e",
   "metadata": {},
   "outputs": [
    {
     "data": {
      "text/plain": [
       "0"
      ]
     },
     "execution_count": 7,
     "metadata": {},
     "output_type": "execute_result"
    }
   ],
   "source": [
    "#Check dimension of the scalar\n",
    "\n",
    "scalar.ndim"
   ]
  },
  {
   "cell_type": "code",
   "execution_count": 8,
   "id": "cee5bed2",
   "metadata": {},
   "outputs": [
    {
     "data": {
      "text/plain": [
       "<tf.Tensor: shape=(2,), dtype=int32, numpy=array([1, 2], dtype=int32)>"
      ]
     },
     "execution_count": 8,
     "metadata": {},
     "output_type": "execute_result"
    }
   ],
   "source": [
    "#Creating a vector\n",
    "\n",
    "vector=tf.constant([1,2])\n",
    "vector"
   ]
  },
  {
   "cell_type": "code",
   "execution_count": 9,
   "id": "b3a93909",
   "metadata": {},
   "outputs": [
    {
     "data": {
      "text/plain": [
       "1"
      ]
     },
     "execution_count": 9,
     "metadata": {},
     "output_type": "execute_result"
    }
   ],
   "source": [
    "#Checking dimension of the vector\n",
    "\n",
    "vector.ndim"
   ]
  },
  {
   "cell_type": "code",
   "execution_count": 10,
   "id": "4717761f",
   "metadata": {},
   "outputs": [
    {
     "data": {
      "text/plain": [
       "<tf.Tensor: shape=(2, 2), dtype=int32, numpy=\n",
       "array([[1, 2],\n",
       "       [3, 4]], dtype=int32)>"
      ]
     },
     "execution_count": 10,
     "metadata": {},
     "output_type": "execute_result"
    }
   ],
   "source": [
    "#Creating a matrix\n",
    "\n",
    "mat=tf.constant([[1,2],[3,4]])\n",
    "mat"
   ]
  },
  {
   "cell_type": "code",
   "execution_count": 11,
   "id": "bb1f98c3",
   "metadata": {},
   "outputs": [
    {
     "data": {
      "text/plain": [
       "2"
      ]
     },
     "execution_count": 11,
     "metadata": {},
     "output_type": "execute_result"
    }
   ],
   "source": [
    "#Checking dimension of the matrix\n",
    "\n",
    "mat.ndim"
   ]
  },
  {
   "cell_type": "code",
   "execution_count": 14,
   "id": "3d00fe12",
   "metadata": {},
   "outputs": [
    {
     "data": {
      "text/plain": [
       "<tf.Tensor: shape=(3, 2), dtype=float16, numpy=\n",
       "array([[1., 2.],\n",
       "       [3., 4.],\n",
       "       [5., 8.]], dtype=float16)>"
      ]
     },
     "execution_count": 14,
     "metadata": {},
     "output_type": "execute_result"
    }
   ],
   "source": [
    "#Creating another matrix\n",
    "\n",
    "mat2=tf.constant([[1.,2.],\n",
    "                  [3.,4],\n",
    "                  [5.,8]],dtype=tf.float16)\n",
    "mat2"
   ]
  },
  {
   "cell_type": "code",
   "execution_count": 17,
   "id": "5fe9f5f1",
   "metadata": {},
   "outputs": [
    {
     "data": {
      "text/plain": [
       "2"
      ]
     },
     "execution_count": 17,
     "metadata": {},
     "output_type": "execute_result"
    }
   ],
   "source": [
    "#Checking dimension of the matrix\n",
    "\n",
    "mat2.ndim"
   ]
  },
  {
   "cell_type": "code",
   "execution_count": 18,
   "id": "21a32ee9",
   "metadata": {},
   "outputs": [
    {
     "data": {
      "text/plain": [
       "<tf.Tensor: shape=(3, 2, 3), dtype=int32, numpy=\n",
       "array([[[ 1,  2,  3],\n",
       "        [ 2,  3,  4]],\n",
       "\n",
       "       [[ 5,  6,  7],\n",
       "        [ 8,  9, 10]],\n",
       "\n",
       "       [[11, 12, 13],\n",
       "        [14, 15, 16]]], dtype=int32)>"
      ]
     },
     "execution_count": 18,
     "metadata": {},
     "output_type": "execute_result"
    }
   ],
   "source": [
    "#Now lets create a tensor (x,y,z)\n",
    "\n",
    "tensor=tf.constant([[[1,2,3],[2,3,4]],[[5,6,7],[8,9,10]],[[11,12,13],[14,15,16]]])\n",
    "tensor"
   ]
  },
  {
   "cell_type": "code",
   "execution_count": 19,
   "id": "56a92a7a",
   "metadata": {},
   "outputs": [
    {
     "data": {
      "text/plain": [
       "3"
      ]
     },
     "execution_count": 19,
     "metadata": {},
     "output_type": "execute_result"
    }
   ],
   "source": [
    "#Here shape=(3, 2, 3) 3-> No of matrixs , 2-> no of rows in each matrix , 3-> no of columns in each matrix\n",
    "#Checking dimension of a tensor\n",
    "tensor.ndim"
   ]
  },
  {
   "cell_type": "markdown",
   "id": "ad287598",
   "metadata": {},
   "source": [
    "# Conclusion"
   ]
  },
  {
   "cell_type": "markdown",
   "id": "b3cb21eb",
   "metadata": {},
   "source": [
    "1. Scalar -> a single number.\n",
    "2. Vector -> a number with direction e.g wind-speed.\n",
    "3. Matrix -> a 2-dimensional array of numbers\n",
    "4. Tensor -> a n-dimensional array of numbers"
   ]
  },
  {
   "cell_type": "markdown",
   "id": "b37ed9c5",
   "metadata": {},
   "source": [
    "# Creating tensor with `tf.Variable`"
   ]
  },
  {
   "cell_type": "code",
   "execution_count": 22,
   "id": "cf83411c",
   "metadata": {},
   "outputs": [
    {
     "data": {
      "text/plain": [
       "<tf.Variable 'Variable:0' shape=(2,) dtype=int32, numpy=array([10,  7], dtype=int32)>"
      ]
     },
     "execution_count": 22,
     "metadata": {},
     "output_type": "execute_result"
    }
   ],
   "source": [
    "#Creating the same tensor with tf.Variable\n",
    "\n",
    "tensor1=tf.Variable([10,7]) #changeable\n",
    "tensor1"
   ]
  },
  {
   "cell_type": "code",
   "execution_count": 23,
   "id": "90562088",
   "metadata": {},
   "outputs": [
    {
     "data": {
      "text/plain": [
       "<tf.Variable 'UnreadVariable' shape=(2,) dtype=int32, numpy=array([5, 7], dtype=int32)>"
      ]
     },
     "execution_count": 23,
     "metadata": {},
     "output_type": "execute_result"
    }
   ],
   "source": [
    "tensor1[0].assign(5)"
   ]
  },
  {
   "cell_type": "markdown",
   "id": "922780b2",
   "metadata": {},
   "source": [
    "# Creating random tensors"
   ]
  },
  {
   "cell_type": "code",
   "execution_count": 25,
   "id": "32b7e52b",
   "metadata": {},
   "outputs": [
    {
     "data": {
      "text/plain": [
       "<tf.Tensor: shape=(3, 2), dtype=float32, numpy=\n",
       "array([[-0.7565803 , -0.06854702],\n",
       "       [ 0.07595026, -1.2573844 ],\n",
       "       [-0.23193763, -1.8107855 ]], dtype=float32)>"
      ]
     },
     "execution_count": 25,
     "metadata": {},
     "output_type": "execute_result"
    }
   ],
   "source": [
    "#Random tensors are tensors with some arbitary sizes.\n",
    "# Create random tensors\n",
    "\n",
    "random_1=tf.random.Generator.from_seed(42)\n",
    "random_1=random_1.normal(shape=(3,2)) #normal distribution\n",
    "\n",
    "random_1"
   ]
  },
  {
   "cell_type": "code",
   "execution_count": 27,
   "id": "bc1948c9",
   "metadata": {},
   "outputs": [
    {
     "data": {
      "text/plain": [
       "<tf.Tensor: shape=(3, 2), dtype=int32, numpy=\n",
       "array([[10,  7],\n",
       "       [ 2,  5],\n",
       "       [ 3,  7]], dtype=int32)>"
      ]
     },
     "execution_count": 27,
     "metadata": {},
     "output_type": "execute_result"
    }
   ],
   "source": [
    "#Shuffle a tensor or shuffle your data\n",
    "\n",
    "not_shuffled=tf.constant([[10,7],[2,5],[3,7]])\n",
    "not_shuffled"
   ]
  },
  {
   "cell_type": "code",
   "execution_count": 32,
   "id": "afe7edbd",
   "metadata": {},
   "outputs": [
    {
     "data": {
      "text/plain": [
       "<tf.Tensor: shape=(3, 2), dtype=int32, numpy=\n",
       "array([[10,  7],\n",
       "       [ 3,  7],\n",
       "       [ 2,  5]], dtype=int32)>"
      ]
     },
     "execution_count": 32,
     "metadata": {},
     "output_type": "execute_result"
    }
   ],
   "source": [
    "tf.random.shuffle(not_shuffled)"
   ]
  },
  {
   "cell_type": "code",
   "execution_count": 43,
   "id": "0034546e",
   "metadata": {},
   "outputs": [
    {
     "data": {
      "text/plain": [
       "<tf.Tensor: shape=(3, 2), dtype=int32, numpy=\n",
       "array([[10,  7],\n",
       "       [ 2,  5],\n",
       "       [ 3,  7]], dtype=int32)>"
      ]
     },
     "execution_count": 43,
     "metadata": {},
     "output_type": "execute_result"
    }
   ],
   "source": [
    "tf.random.set_seed(42) #global level random seed\n",
    "tf.random.shuffle(not_shuffled,seed=42) #will result to same order everytime"
   ]
  },
  {
   "cell_type": "markdown",
   "id": "a0c108de",
   "metadata": {},
   "source": [
    "# Other ways of making tensors"
   ]
  },
  {
   "cell_type": "code",
   "execution_count": 46,
   "id": "fa6ea8ad",
   "metadata": {},
   "outputs": [
    {
     "data": {
      "text/plain": [
       "<tf.Tensor: shape=(10, 7), dtype=float32, numpy=\n",
       "array([[1., 1., 1., 1., 1., 1., 1.],\n",
       "       [1., 1., 1., 1., 1., 1., 1.],\n",
       "       [1., 1., 1., 1., 1., 1., 1.],\n",
       "       [1., 1., 1., 1., 1., 1., 1.],\n",
       "       [1., 1., 1., 1., 1., 1., 1.],\n",
       "       [1., 1., 1., 1., 1., 1., 1.],\n",
       "       [1., 1., 1., 1., 1., 1., 1.],\n",
       "       [1., 1., 1., 1., 1., 1., 1.],\n",
       "       [1., 1., 1., 1., 1., 1., 1.],\n",
       "       [1., 1., 1., 1., 1., 1., 1.]], dtype=float32)>"
      ]
     },
     "execution_count": 46,
     "metadata": {},
     "output_type": "execute_result"
    }
   ],
   "source": [
    "#Create tensors of all ones\n",
    "\n",
    "tf.ones([10,7])"
   ]
  },
  {
   "cell_type": "code",
   "execution_count": 50,
   "id": "13df6b60",
   "metadata": {},
   "outputs": [
    {
     "data": {
      "text/plain": [
       "<tf.Tensor: shape=(10, 7), dtype=float32, numpy=\n",
       "array([[0., 0., 0., 0., 0., 0., 0.],\n",
       "       [0., 0., 0., 0., 0., 0., 0.],\n",
       "       [0., 0., 0., 0., 0., 0., 0.],\n",
       "       [0., 0., 0., 0., 0., 0., 0.],\n",
       "       [0., 0., 0., 0., 0., 0., 0.],\n",
       "       [0., 0., 0., 0., 0., 0., 0.],\n",
       "       [0., 0., 0., 0., 0., 0., 0.],\n",
       "       [0., 0., 0., 0., 0., 0., 0.],\n",
       "       [0., 0., 0., 0., 0., 0., 0.],\n",
       "       [0., 0., 0., 0., 0., 0., 0.]], dtype=float32)>"
      ]
     },
     "execution_count": 50,
     "metadata": {},
     "output_type": "execute_result"
    }
   ],
   "source": [
    "#Create tensors of all zeroes\n",
    "\n",
    "tf.zeros(shape=(10,7))"
   ]
  },
  {
   "cell_type": "markdown",
   "id": "f14f6c09",
   "metadata": {},
   "source": [
    "# Turn numpy arrays to tensors"
   ]
  },
  {
   "cell_type": "code",
   "execution_count": 56,
   "id": "d636497b",
   "metadata": {},
   "outputs": [],
   "source": [
    "import numpy as np\n",
    "\n",
    "nparray=np.arange(1,25,dtype=np.int32)"
   ]
  },
  {
   "cell_type": "code",
   "execution_count": 58,
   "id": "23565cf8",
   "metadata": {},
   "outputs": [
    {
     "data": {
      "text/plain": [
       "<tf.Tensor: shape=(2, 3, 4), dtype=int32, numpy=\n",
       "array([[[ 1,  2,  3,  4],\n",
       "        [ 5,  6,  7,  8],\n",
       "        [ 9, 10, 11, 12]],\n",
       "\n",
       "       [[13, 14, 15, 16],\n",
       "        [17, 18, 19, 20],\n",
       "        [21, 22, 23, 24]]], dtype=int32)>"
      ]
     },
     "execution_count": 58,
     "metadata": {},
     "output_type": "execute_result"
    }
   ],
   "source": [
    "A=tf.constant(nparray,shape=(2,3,4))\n",
    "A"
   ]
  },
  {
   "cell_type": "code",
   "execution_count": 59,
   "id": "5e54dd99",
   "metadata": {},
   "outputs": [
    {
     "data": {
      "text/plain": [
       "3"
      ]
     },
     "execution_count": 59,
     "metadata": {},
     "output_type": "execute_result"
    }
   ],
   "source": [
    "A.ndim"
   ]
  },
  {
   "cell_type": "markdown",
   "id": "7c3706f0",
   "metadata": {},
   "source": [
    "# Getting Information from Tensors"
   ]
  },
  {
   "cell_type": "markdown",
   "id": "633787fc",
   "metadata": {},
   "source": [
    "1. SHAPE\n",
    "2. AXIS\n",
    "3. RANK\n",
    "4. SIZE"
   ]
  },
  {
   "cell_type": "code",
   "execution_count": 61,
   "id": "91a7e0bb",
   "metadata": {},
   "outputs": [
    {
     "data": {
      "text/plain": [
       "<tf.Tensor: shape=(2, 3, 4, 5), dtype=float32, numpy=\n",
       "array([[[[0., 0., 0., 0., 0.],\n",
       "         [0., 0., 0., 0., 0.],\n",
       "         [0., 0., 0., 0., 0.],\n",
       "         [0., 0., 0., 0., 0.]],\n",
       "\n",
       "        [[0., 0., 0., 0., 0.],\n",
       "         [0., 0., 0., 0., 0.],\n",
       "         [0., 0., 0., 0., 0.],\n",
       "         [0., 0., 0., 0., 0.]],\n",
       "\n",
       "        [[0., 0., 0., 0., 0.],\n",
       "         [0., 0., 0., 0., 0.],\n",
       "         [0., 0., 0., 0., 0.],\n",
       "         [0., 0., 0., 0., 0.]]],\n",
       "\n",
       "\n",
       "       [[[0., 0., 0., 0., 0.],\n",
       "         [0., 0., 0., 0., 0.],\n",
       "         [0., 0., 0., 0., 0.],\n",
       "         [0., 0., 0., 0., 0.]],\n",
       "\n",
       "        [[0., 0., 0., 0., 0.],\n",
       "         [0., 0., 0., 0., 0.],\n",
       "         [0., 0., 0., 0., 0.],\n",
       "         [0., 0., 0., 0., 0.]],\n",
       "\n",
       "        [[0., 0., 0., 0., 0.],\n",
       "         [0., 0., 0., 0., 0.],\n",
       "         [0., 0., 0., 0., 0.],\n",
       "         [0., 0., 0., 0., 0.]]]], dtype=float32)>"
      ]
     },
     "execution_count": 61,
     "metadata": {},
     "output_type": "execute_result"
    }
   ],
   "source": [
    "rank_4_tensor=tf.zeros(shape=[2,3,4,5])\n",
    "rank_4_tensor"
   ]
  },
  {
   "cell_type": "code",
   "execution_count": 64,
   "id": "3b7ba23b",
   "metadata": {},
   "outputs": [
    {
     "data": {
      "text/plain": [
       "(TensorShape([2, 3, 4, 5]), 4, <tf.Tensor: shape=(), dtype=int32, numpy=120>)"
      ]
     },
     "execution_count": 64,
     "metadata": {},
     "output_type": "execute_result"
    }
   ],
   "source": [
    "rank_4_tensor.shape,rank_4_tensor.ndim,tf.size(rank_4_tensor)#size=(2*3*4*5)"
   ]
  },
  {
   "cell_type": "code",
   "execution_count": 72,
   "id": "b019e6e3",
   "metadata": {},
   "outputs": [
    {
     "name": "stdout",
     "output_type": "stream",
     "text": [
      "Datatype of every element : <dtype: 'float32'>\n",
      "Number of dimensions or rank: 4\n",
      "Shape of tensor : (2, 3, 4, 5)\n",
      "Total number of elements in a tensor : 120\n"
     ]
    }
   ],
   "source": [
    "print('Datatype of every element :',rank_4_tensor.dtype)\n",
    "print('Number of dimensions or rank:',rank_4_tensor.ndim)\n",
    "print('Shape of tensor :',rank_4_tensor.shape)\n",
    "print('Total number of elements in a tensor :',tf.size(rank_4_tensor).numpy())"
   ]
  },
  {
   "cell_type": "markdown",
   "id": "038ec6dd",
   "metadata": {},
   "source": [
    "# Indexing Tensors"
   ]
  },
  {
   "cell_type": "code",
   "execution_count": 82,
   "id": "64e46d63",
   "metadata": {},
   "outputs": [
    {
     "data": {
      "text/plain": [
       "<tf.Tensor: shape=(2, 2, 2, 2), dtype=float32, numpy=\n",
       "array([[[[0., 0.],\n",
       "         [0., 0.]],\n",
       "\n",
       "        [[0., 0.],\n",
       "         [0., 0.]]],\n",
       "\n",
       "\n",
       "       [[[0., 0.],\n",
       "         [0., 0.]],\n",
       "\n",
       "        [[0., 0.],\n",
       "         [0., 0.]]]], dtype=float32)>"
      ]
     },
     "execution_count": 82,
     "metadata": {},
     "output_type": "execute_result"
    }
   ],
   "source": [
    "#Get the first two elements from each dimensions\n",
    "\n",
    "rank_4_tensor[:2,:2,:2,:2]"
   ]
  },
  {
   "cell_type": "code",
   "execution_count": 81,
   "id": "269d8bf5",
   "metadata": {},
   "outputs": [
    {
     "data": {
      "text/plain": [
       "<tf.Tensor: shape=(1, 1, 4, 1), dtype=float32, numpy=\n",
       "array([[[[0.],\n",
       "         [0.],\n",
       "         [0.],\n",
       "         [0.]]]], dtype=float32)>"
      ]
     },
     "execution_count": 81,
     "metadata": {},
     "output_type": "execute_result"
    }
   ],
   "source": [
    "#get the first element from each dimension except the last one\n",
    "\n",
    "rank_4_tensor[:1,:1,:,:1]"
   ]
  },
  {
   "cell_type": "code",
   "execution_count": 92,
   "id": "08f014e8",
   "metadata": {},
   "outputs": [
    {
     "data": {
      "text/plain": [
       "<tf.Tensor: shape=(3, 2), dtype=int64, numpy=\n",
       "array([[1, 2],\n",
       "       [3, 4],\n",
       "       [5, 6]])>"
      ]
     },
     "execution_count": 92,
     "metadata": {},
     "output_type": "execute_result"
    }
   ],
   "source": [
    "#Create a rank 2 tensor\n",
    "\n",
    "np2=np.arange(1,7)\n",
    "rank2_tensor=tf.constant(np2,shape=(3,2))\n",
    "rank2_tensor"
   ]
  },
  {
   "cell_type": "code",
   "execution_count": 96,
   "id": "795debe5",
   "metadata": {},
   "outputs": [
    {
     "data": {
      "text/plain": [
       "<tf.Tensor: shape=(3,), dtype=int64, numpy=array([2, 4, 6])>"
      ]
     },
     "execution_count": 96,
     "metadata": {},
     "output_type": "execute_result"
    }
   ],
   "source": [
    "#Last item of each row\n",
    "\n",
    "rank2_tensor[:,-1]"
   ]
  },
  {
   "cell_type": "markdown",
   "id": "871588f2",
   "metadata": {},
   "source": [
    "# Expanding Tensors"
   ]
  },
  {
   "cell_type": "code",
   "execution_count": 102,
   "id": "58360ef4",
   "metadata": {},
   "outputs": [
    {
     "data": {
      "text/plain": [
       "<tf.Tensor: shape=(3, 2, 1), dtype=int64, numpy=\n",
       "array([[[1],\n",
       "        [2]],\n",
       "\n",
       "       [[3],\n",
       "        [4]],\n",
       "\n",
       "       [[5],\n",
       "        [6]]])>"
      ]
     },
     "execution_count": 102,
     "metadata": {},
     "output_type": "execute_result"
    }
   ],
   "source": [
    "rank_3_tensor=rank2_tensor[...,tf.newaxis]\n",
    "rank_3_tensor"
   ]
  },
  {
   "cell_type": "code",
   "execution_count": 104,
   "id": "a83011fc",
   "metadata": {},
   "outputs": [
    {
     "data": {
      "text/plain": [
       "<tf.Tensor: shape=(3, 1, 2), dtype=int64, numpy=\n",
       "array([[[1, 2]],\n",
       "\n",
       "       [[3, 4]],\n",
       "\n",
       "       [[5, 6]]])>"
      ]
     },
     "execution_count": 104,
     "metadata": {},
     "output_type": "execute_result"
    }
   ],
   "source": [
    "# Alternative\n",
    "\n",
    "tf.expand_dims(rank2_tensor,axis=1)"
   ]
  },
  {
   "cell_type": "markdown",
   "id": "7d73176b",
   "metadata": {},
   "source": [
    "# Basic Operations on Tensors"
   ]
  },
  {
   "cell_type": "code",
   "execution_count": 4,
   "id": "33c23823",
   "metadata": {},
   "outputs": [
    {
     "data": {
      "text/plain": [
       "<tf.Tensor: shape=(2, 2), dtype=int32, numpy=\n",
       "array([[20, 17],\n",
       "       [13, 14]], dtype=int32)>"
      ]
     },
     "execution_count": 4,
     "metadata": {},
     "output_type": "execute_result"
    }
   ],
   "source": [
    "tensor=tf.constant([[10,7],[3,4]])\n",
    "tensor+10"
   ]
  },
  {
   "cell_type": "code",
   "execution_count": 5,
   "id": "6de1e921",
   "metadata": {},
   "outputs": [
    {
     "data": {
      "text/plain": [
       "<tf.Tensor: shape=(2, 2), dtype=int32, numpy=\n",
       "array([[100,  70],\n",
       "       [ 30,  40]], dtype=int32)>"
      ]
     },
     "execution_count": 5,
     "metadata": {},
     "output_type": "execute_result"
    }
   ],
   "source": [
    "tensor*10"
   ]
  },
  {
   "cell_type": "code",
   "execution_count": 6,
   "id": "e9c1efa9",
   "metadata": {},
   "outputs": [
    {
     "data": {
      "text/plain": [
       "<tf.Tensor: shape=(2, 2), dtype=int32, numpy=\n",
       "array([[8, 5],\n",
       "       [1, 2]], dtype=int32)>"
      ]
     },
     "execution_count": 6,
     "metadata": {},
     "output_type": "execute_result"
    }
   ],
   "source": [
    "tensor-2"
   ]
  },
  {
   "cell_type": "code",
   "execution_count": 8,
   "id": "daca7dc5",
   "metadata": {},
   "outputs": [
    {
     "data": {
      "text/plain": [
       "<tf.Tensor: shape=(2, 2), dtype=int32, numpy=\n",
       "array([[100,  70],\n",
       "       [ 30,  40]], dtype=int32)>"
      ]
     },
     "execution_count": 8,
     "metadata": {},
     "output_type": "execute_result"
    }
   ],
   "source": [
    "# Tensorflow builtin functions\n",
    "\n",
    "tf.multiply(tensor,10)"
   ]
  },
  {
   "cell_type": "code",
   "execution_count": 9,
   "id": "523af38c",
   "metadata": {},
   "outputs": [
    {
     "data": {
      "text/plain": [
       "<tf.Tensor: shape=(2, 2), dtype=int32, numpy=\n",
       "array([[16, 13],\n",
       "       [ 9, 10]], dtype=int32)>"
      ]
     },
     "execution_count": 9,
     "metadata": {},
     "output_type": "execute_result"
    }
   ],
   "source": [
    "tf.math.add(tensor,6)"
   ]
  },
  {
   "cell_type": "markdown",
   "id": "f006fd0e",
   "metadata": {},
   "source": [
    "# Matrix Multiplication"
   ]
  },
  {
   "cell_type": "code",
   "execution_count": 12,
   "id": "8f8df046",
   "metadata": {},
   "outputs": [
    {
     "data": {
      "text/plain": [
       "<tf.Tensor: shape=(2, 2), dtype=int32, numpy=\n",
       "array([[121,  98],\n",
       "       [ 42,  37]], dtype=int32)>"
      ]
     },
     "execution_count": 12,
     "metadata": {},
     "output_type": "execute_result"
    }
   ],
   "source": [
    "tf.matmul(tensor,tensor)"
   ]
  },
  {
   "cell_type": "code",
   "execution_count": 13,
   "id": "184991ff",
   "metadata": {},
   "outputs": [
    {
     "data": {
      "text/plain": [
       "<tf.Tensor: shape=(2, 2), dtype=int32, numpy=\n",
       "array([[121,  98],\n",
       "       [ 42,  37]], dtype=int32)>"
      ]
     },
     "execution_count": 13,
     "metadata": {},
     "output_type": "execute_result"
    }
   ],
   "source": [
    "tensor @ tensor"
   ]
  },
  {
   "cell_type": "code",
   "execution_count": 12,
   "id": "d319a0bb",
   "metadata": {},
   "outputs": [
    {
     "data": {
      "text/plain": [
       "<tf.Tensor: shape=(3, 2), dtype=int32, numpy=\n",
       "array([[1, 2],\n",
       "       [3, 4],\n",
       "       [5, 6]], dtype=int32)>"
      ]
     },
     "execution_count": 12,
     "metadata": {},
     "output_type": "execute_result"
    }
   ],
   "source": [
    "# Create one tensor with (3x2) shape\n",
    "\n",
    "tensor1=tf.constant([[1,2],[3,4],[5,6]])\n",
    "tensor1"
   ]
  },
  {
   "cell_type": "code",
   "execution_count": 5,
   "id": "393aa3cb",
   "metadata": {},
   "outputs": [
    {
     "data": {
      "text/plain": [
       "<tf.Tensor: shape=(2, 3), dtype=int32, numpy=\n",
       "array([[1, 2, 3],\n",
       "       [4, 5, 6]], dtype=int32)>"
      ]
     },
     "execution_count": 5,
     "metadata": {},
     "output_type": "execute_result"
    }
   ],
   "source": [
    "# Create another tensor with (2X3) shape\n",
    "\n",
    "tensor2=tf.constant([[1,2,3],[4,5,6]])\n",
    "tensor2"
   ]
  },
  {
   "cell_type": "code",
   "execution_count": 6,
   "id": "1a2f025e",
   "metadata": {},
   "outputs": [
    {
     "data": {
      "text/plain": [
       "<tf.Tensor: shape=(3, 3), dtype=int32, numpy=\n",
       "array([[ 9, 12, 15],\n",
       "       [19, 26, 33],\n",
       "       [29, 40, 51]], dtype=int32)>"
      ]
     },
     "execution_count": 6,
     "metadata": {},
     "output_type": "execute_result"
    }
   ],
   "source": [
    "tf.matmul(tensor1,tensor2)"
   ]
  },
  {
   "cell_type": "markdown",
   "id": "6e26b48c",
   "metadata": {},
   "source": [
    "# You can reshape a tensor using `tf.reshape()`"
   ]
  },
  {
   "cell_type": "code",
   "execution_count": 9,
   "id": "93d5995b",
   "metadata": {},
   "outputs": [
    {
     "data": {
      "text/plain": [
       "<tf.Tensor: shape=(3, 2), dtype=int32, numpy=\n",
       "array([[1, 2],\n",
       "       [3, 4],\n",
       "       [5, 6]], dtype=int32)>"
      ]
     },
     "execution_count": 9,
     "metadata": {},
     "output_type": "execute_result"
    }
   ],
   "source": [
    "tf.reshape(tensor2,shape=(3,2))"
   ]
  },
  {
   "cell_type": "code",
   "execution_count": 14,
   "id": "14b920fd",
   "metadata": {},
   "outputs": [
    {
     "data": {
      "text/plain": [
       "(<tf.Tensor: shape=(2, 3), dtype=int32, numpy=\n",
       " array([[1, 2, 3],\n",
       "        [4, 5, 6]], dtype=int32)>,\n",
       " <tf.Tensor: shape=(2, 3), dtype=int32, numpy=\n",
       " array([[7, 8, 9],\n",
       "        [5, 6, 7]], dtype=int32)>)"
      ]
     },
     "execution_count": 14,
     "metadata": {},
     "output_type": "execute_result"
    }
   ],
   "source": [
    "#Lets do more trials\n",
    "\n",
    "X=tf.constant([[1,2,3],[4,5,6]])\n",
    "Y=tf.constant([[7,8,9],[5,6,7]])\n",
    "X,Y"
   ]
  },
  {
   "cell_type": "code",
   "execution_count": 15,
   "id": "c95defb1",
   "metadata": {},
   "outputs": [
    {
     "ename": "InvalidArgumentError",
     "evalue": "{{function_node __wrapped__MatMul_device_/job:localhost/replica:0/task:0/device:CPU:0}} Matrix size-incompatible: In[0]: [2,3], In[1]: [2,3] [Op:MatMul]",
     "output_type": "error",
     "traceback": [
      "\u001b[0;31m---------------------------------------------------------------------------\u001b[0m",
      "\u001b[0;31mInvalidArgumentError\u001b[0m                      Traceback (most recent call last)",
      "Cell \u001b[0;32mIn [15], line 1\u001b[0m\n\u001b[0;32m----> 1\u001b[0m \u001b[43mX\u001b[49m\u001b[38;5;129;43m@Y\u001b[39;49m\n",
      "File \u001b[0;32m~/mambaforge/envs/mlp/lib/python3.8/site-packages/tensorflow/python/util/traceback_utils.py:153\u001b[0m, in \u001b[0;36mfilter_traceback.<locals>.error_handler\u001b[0;34m(*args, **kwargs)\u001b[0m\n\u001b[1;32m    151\u001b[0m \u001b[38;5;28;01mexcept\u001b[39;00m \u001b[38;5;167;01mException\u001b[39;00m \u001b[38;5;28;01mas\u001b[39;00m e:\n\u001b[1;32m    152\u001b[0m   filtered_tb \u001b[38;5;241m=\u001b[39m _process_traceback_frames(e\u001b[38;5;241m.\u001b[39m__traceback__)\n\u001b[0;32m--> 153\u001b[0m   \u001b[38;5;28;01mraise\u001b[39;00m e\u001b[38;5;241m.\u001b[39mwith_traceback(filtered_tb) \u001b[38;5;28;01mfrom\u001b[39;00m \u001b[38;5;28mNone\u001b[39m\n\u001b[1;32m    154\u001b[0m \u001b[38;5;28;01mfinally\u001b[39;00m:\n\u001b[1;32m    155\u001b[0m   \u001b[38;5;28;01mdel\u001b[39;00m filtered_tb\n",
      "File \u001b[0;32m~/mambaforge/envs/mlp/lib/python3.8/site-packages/tensorflow/python/framework/ops.py:7209\u001b[0m, in \u001b[0;36mraise_from_not_ok_status\u001b[0;34m(e, name)\u001b[0m\n\u001b[1;32m   7207\u001b[0m \u001b[38;5;28;01mdef\u001b[39;00m \u001b[38;5;21mraise_from_not_ok_status\u001b[39m(e, name):\n\u001b[1;32m   7208\u001b[0m   e\u001b[38;5;241m.\u001b[39mmessage \u001b[38;5;241m+\u001b[39m\u001b[38;5;241m=\u001b[39m (\u001b[38;5;124m\"\u001b[39m\u001b[38;5;124m name: \u001b[39m\u001b[38;5;124m\"\u001b[39m \u001b[38;5;241m+\u001b[39m name \u001b[38;5;28;01mif\u001b[39;00m name \u001b[38;5;129;01mis\u001b[39;00m \u001b[38;5;129;01mnot\u001b[39;00m \u001b[38;5;28;01mNone\u001b[39;00m \u001b[38;5;28;01melse\u001b[39;00m \u001b[38;5;124m\"\u001b[39m\u001b[38;5;124m\"\u001b[39m)\n\u001b[0;32m-> 7209\u001b[0m   \u001b[38;5;28;01mraise\u001b[39;00m core\u001b[38;5;241m.\u001b[39m_status_to_exception(e) \u001b[38;5;28;01mfrom\u001b[39;00m \u001b[38;5;28mNone\u001b[39m\n",
      "\u001b[0;31mInvalidArgumentError\u001b[0m: {{function_node __wrapped__MatMul_device_/job:localhost/replica:0/task:0/device:CPU:0}} Matrix size-incompatible: In[0]: [2,3], In[1]: [2,3] [Op:MatMul]"
     ]
    }
   ],
   "source": [
    "X@Y"
   ]
  },
  {
   "cell_type": "code",
   "execution_count": 17,
   "id": "9bd71ada",
   "metadata": {},
   "outputs": [
    {
     "data": {
      "text/plain": [
       "<tf.Tensor: shape=(2, 2), dtype=int32, numpy=\n",
       "array([[ 43,  39],\n",
       "       [109,  99]], dtype=int32)>"
      ]
     },
     "execution_count": 17,
     "metadata": {},
     "output_type": "execute_result"
    }
   ],
   "source": [
    "X @ tf.reshape(Y,shape=(3,2))"
   ]
  },
  {
   "cell_type": "code",
   "execution_count": 18,
   "id": "c44f8f73",
   "metadata": {},
   "outputs": [
    {
     "data": {
      "text/plain": [
       "<tf.Tensor: shape=(2, 2), dtype=int32, numpy=\n",
       "array([[ 43,  39],\n",
       "       [109,  99]], dtype=int32)>"
      ]
     },
     "execution_count": 18,
     "metadata": {},
     "output_type": "execute_result"
    }
   ],
   "source": [
    "tf.matmul(X,tf.reshape(Y,shape=(3,2)))"
   ]
  },
  {
   "cell_type": "code",
   "execution_count": 19,
   "id": "20fec481",
   "metadata": {},
   "outputs": [],
   "source": [
    "# Lets try transposing"
   ]
  },
  {
   "cell_type": "code",
   "execution_count": 21,
   "id": "3b1cdfd0",
   "metadata": {},
   "outputs": [
    {
     "data": {
      "text/plain": [
       "<tf.Tensor: shape=(3, 2), dtype=int32, numpy=\n",
       "array([[7, 5],\n",
       "       [8, 6],\n",
       "       [9, 7]], dtype=int32)>"
      ]
     },
     "execution_count": 21,
     "metadata": {},
     "output_type": "execute_result"
    }
   ],
   "source": [
    "tf.transpose(Y)"
   ]
  },
  {
   "cell_type": "code",
   "execution_count": 24,
   "id": "74f03db4",
   "metadata": {},
   "outputs": [
    {
     "data": {
      "text/plain": [
       "<tf.Tensor: shape=(2, 2), dtype=int32, numpy=\n",
       "array([[ 50,  38],\n",
       "       [122,  92]], dtype=int32)>"
      ]
     },
     "execution_count": 24,
     "metadata": {},
     "output_type": "execute_result"
    }
   ],
   "source": [
    "X @ tf.transpose(Y)"
   ]
  },
  {
   "cell_type": "markdown",
   "id": "8d5c59e4",
   "metadata": {},
   "source": [
    "# The Dot Product"
   ]
  },
  {
   "cell_type": "code",
   "execution_count": 4,
   "id": "861b41d9",
   "metadata": {},
   "outputs": [
    {
     "data": {
      "text/plain": [
       "(<tf.Tensor: shape=(3, 2), dtype=int32, numpy=\n",
       " array([[1, 2],\n",
       "        [3, 4],\n",
       "        [5, 6]], dtype=int32)>,\n",
       " <tf.Tensor: shape=(3, 2), dtype=int32, numpy=\n",
       " array([[7, 8],\n",
       "        [9, 1],\n",
       "        [3, 4]], dtype=int32)>)"
      ]
     },
     "execution_count": 4,
     "metadata": {},
     "output_type": "execute_result"
    }
   ],
   "source": [
    "#Perform the dot product using tensordot()\n",
    "\n",
    "x=tf.constant([[1,2],[3,4],[5,6]])\n",
    "y=tf.constant([[7,8],[9,1],[3,4]])\n",
    "x,y"
   ]
  },
  {
   "cell_type": "code",
   "execution_count": 8,
   "id": "d1a73b95",
   "metadata": {},
   "outputs": [
    {
     "data": {
      "text/plain": [
       "<tf.Tensor: shape=(2, 2), dtype=int32, numpy=\n",
       "array([[49, 31],\n",
       "       [68, 44]], dtype=int32)>"
      ]
     },
     "execution_count": 8,
     "metadata": {},
     "output_type": "execute_result"
    }
   ],
   "source": [
    "tf.tensordot(tf.transpose(x),y,axes=1)"
   ]
  },
  {
   "cell_type": "code",
   "execution_count": 10,
   "id": "911e23de",
   "metadata": {},
   "outputs": [
    {
     "data": {
      "text/plain": [
       "<tf.Tensor: shape=(2, 2), dtype=int32, numpy=\n",
       "array([[49, 31],\n",
       "       [68, 44]], dtype=int32)>"
      ]
     },
     "execution_count": 10,
     "metadata": {},
     "output_type": "execute_result"
    }
   ],
   "source": [
    "#Checking by transposing x\n",
    "\n",
    "tf.matmul(tf.transpose(x),y)"
   ]
  },
  {
   "cell_type": "code",
   "execution_count": 11,
   "id": "0ba7fb42",
   "metadata": {},
   "outputs": [
    {
     "data": {
      "text/plain": [
       "<tf.Tensor: shape=(2, 2), dtype=int32, numpy=\n",
       "array([[34, 22],\n",
       "       [91, 61]], dtype=int32)>"
      ]
     },
     "execution_count": 11,
     "metadata": {},
     "output_type": "execute_result"
    }
   ],
   "source": [
    "#Checking by reshaping x\n",
    "\n",
    "tf.matmul(tf.reshape(x,shape=(2,3)),y)"
   ]
  },
  {
   "cell_type": "code",
   "execution_count": null,
   "id": "da0c0246",
   "metadata": {},
   "outputs": [],
   "source": [
    "# While both transpose and reshape do the same work why our value matrix getting incorrect."
   ]
  },
  {
   "cell_type": "code",
   "execution_count": 15,
   "id": "51b5025b",
   "metadata": {},
   "outputs": [
    {
     "name": "stdout",
     "output_type": "stream",
     "text": [
      "Normal X \n",
      " tf.Tensor(\n",
      "[[1 2]\n",
      " [3 4]\n",
      " [5 6]], shape=(3, 2), dtype=int32) \n",
      "\n",
      "Transpose X\n",
      " tf.Tensor(\n",
      "[[1 3 5]\n",
      " [2 4 6]], shape=(2, 3), dtype=int32) \n",
      "\n",
      "Reshaped X\n",
      " tf.Tensor(\n",
      "[[1 2 3]\n",
      " [4 5 6]], shape=(2, 3), dtype=int32) \n",
      "\n"
     ]
    }
   ],
   "source": [
    "print('Normal X \\n',x,'\\n')\n",
    "print('Transpose X\\n',tf.transpose(x),'\\n')\n",
    "print('Reshaped X\\n',tf.reshape(x,shape=(2,3)),'\\n')"
   ]
  },
  {
   "cell_type": "code",
   "execution_count": 16,
   "id": "56ed3bea",
   "metadata": {},
   "outputs": [],
   "source": [
    "# So here reshape method is reshaping the matrix with random elements, which results us incorrect result."
   ]
  },
  {
   "cell_type": "code",
   "execution_count": 17,
   "id": "1f435e45",
   "metadata": {},
   "outputs": [
    {
     "data": {
      "text/plain": [
       "<tf.Tensor: shape=(2, 2), dtype=int32, numpy=\n",
       "array([[49, 31],\n",
       "       [68, 44]], dtype=int32)>"
      ]
     },
     "execution_count": 17,
     "metadata": {},
     "output_type": "execute_result"
    }
   ],
   "source": [
    "# So the correct way of matrix multiplication is by using transpose\n",
    "\n",
    "tf.matmul(tf.transpose(x),y)"
   ]
  },
  {
   "cell_type": "markdown",
   "id": "6e3f1a82",
   "metadata": {},
   "source": [
    "# Changing the datatype of a tensor"
   ]
  },
  {
   "cell_type": "code",
   "execution_count": 18,
   "id": "90811534",
   "metadata": {},
   "outputs": [
    {
     "data": {
      "text/plain": [
       "tf.float32"
      ]
     },
     "execution_count": 18,
     "metadata": {},
     "output_type": "execute_result"
    }
   ],
   "source": [
    "B=tf.constant([1.4,5.4])\n",
    "B.dtype"
   ]
  },
  {
   "cell_type": "code",
   "execution_count": 19,
   "id": "8a85de92",
   "metadata": {},
   "outputs": [
    {
     "data": {
      "text/plain": [
       "tf.float16"
      ]
     },
     "execution_count": 19,
     "metadata": {},
     "output_type": "execute_result"
    }
   ],
   "source": [
    "# Change the datatype from float32 to float16\n",
    "\n",
    "B=tf.cast(B,dtype=tf.float16)\n",
    "B.dtype"
   ]
  },
  {
   "cell_type": "code",
   "execution_count": 20,
   "id": "fb1182b5",
   "metadata": {},
   "outputs": [
    {
     "data": {
      "text/plain": [
       "tf.int32"
      ]
     },
     "execution_count": 20,
     "metadata": {},
     "output_type": "execute_result"
    }
   ],
   "source": [
    "# Lets chnage one integer typw to float type\n",
    "\n",
    "C=tf.constant([4,5])\n",
    "C.dtype"
   ]
  },
  {
   "cell_type": "code",
   "execution_count": 24,
   "id": "2f1e163b",
   "metadata": {},
   "outputs": [
    {
     "data": {
      "text/plain": [
       "tf.float32"
      ]
     },
     "execution_count": 24,
     "metadata": {},
     "output_type": "execute_result"
    }
   ],
   "source": [
    "C=tf.cast(C,dtype=tf.float32)\n",
    "C.dtype"
   ]
  },
  {
   "cell_type": "markdown",
   "id": "22948277",
   "metadata": {},
   "source": [
    "# Aggregating Tensors"
   ]
  },
  {
   "cell_type": "code",
   "execution_count": 25,
   "id": "041a6900",
   "metadata": {},
   "outputs": [
    {
     "data": {
      "text/plain": [
       "<tf.Tensor: shape=(2,), dtype=int32, numpy=array([ 7, 10], dtype=int32)>"
      ]
     },
     "execution_count": 25,
     "metadata": {},
     "output_type": "execute_result"
    }
   ],
   "source": [
    "# Get the absolute Value\n",
    "\n",
    "A=tf.constant([-7,-10])\n",
    "tf.abs(A)"
   ]
  },
  {
   "cell_type": "code",
   "execution_count": 32,
   "id": "467a1376",
   "metadata": {},
   "outputs": [
    {
     "data": {
      "text/plain": [
       "<tf.Tensor: shape=(50,), dtype=int64, numpy=\n",
       "array([11, 16, 62, 34, 91, 10, 39, 30,  9, 19, 35,  6, 55, 64, 62, 17, 39,\n",
       "       69, 54,  2, 65, 26, 90,  3, 14, 84, 28, 47, 89, 52, 55, 38, 13,  8,\n",
       "       75, 94, 83, 60, 83, 80,  5, 71, 33, 86, 68, 55, 67, 95, 65, 41])>"
      ]
     },
     "execution_count": 32,
     "metadata": {},
     "output_type": "execute_result"
    }
   ],
   "source": [
    "# Random Tensor\n",
    "\n",
    "A=tf.constant(np.random.randint(0,100,size=50))\n",
    "A"
   ]
  },
  {
   "cell_type": "code",
   "execution_count": 33,
   "id": "acdf8a91",
   "metadata": {},
   "outputs": [
    {
     "data": {
      "text/plain": [
       "<tf.Tensor: shape=(), dtype=int64, numpy=2>"
      ]
     },
     "execution_count": 33,
     "metadata": {},
     "output_type": "execute_result"
    }
   ],
   "source": [
    "# Get minimum number\n",
    "\n",
    "tf.reduce_min(A)"
   ]
  },
  {
   "cell_type": "code",
   "execution_count": 34,
   "id": "bcd9b2b2",
   "metadata": {},
   "outputs": [
    {
     "data": {
      "text/plain": [
       "<tf.Tensor: shape=(), dtype=int64, numpy=95>"
      ]
     },
     "execution_count": 34,
     "metadata": {},
     "output_type": "execute_result"
    }
   ],
   "source": [
    "# Get maximum number\n",
    "\n",
    "tf.reduce_max(A)"
   ]
  },
  {
   "cell_type": "code",
   "execution_count": 35,
   "id": "829554d6",
   "metadata": {},
   "outputs": [
    {
     "data": {
      "text/plain": [
       "<tf.Tensor: shape=(), dtype=int64, numpy=47>"
      ]
     },
     "execution_count": 35,
     "metadata": {},
     "output_type": "execute_result"
    }
   ],
   "source": [
    "#Get mean number\n",
    "\n",
    "tf.reduce_mean(A)"
   ]
  },
  {
   "cell_type": "code",
   "execution_count": 36,
   "id": "4b122256",
   "metadata": {},
   "outputs": [
    {
     "data": {
      "text/plain": [
       "<tf.Tensor: shape=(), dtype=int64, numpy=2397>"
      ]
     },
     "execution_count": 36,
     "metadata": {},
     "output_type": "execute_result"
    }
   ],
   "source": [
    "# Get sum of tensor\n",
    "\n",
    "tf.reduce_sum(A)"
   ]
  },
  {
   "cell_type": "code",
   "execution_count": 43,
   "id": "f478952c",
   "metadata": {},
   "outputs": [],
   "source": [
    "#Get variance of tensor\n",
    "\n",
    "import tensorflow_probability as tfp"
   ]
  },
  {
   "cell_type": "code",
   "execution_count": 45,
   "id": "b5ee2f2c",
   "metadata": {},
   "outputs": [
    {
     "data": {
      "text/plain": [
       "<tf.Tensor: shape=(), dtype=int64, numpy=818>"
      ]
     },
     "execution_count": 45,
     "metadata": {},
     "output_type": "execute_result"
    }
   ],
   "source": [
    "tfp.stats.variance(A)"
   ]
  },
  {
   "cell_type": "code",
   "execution_count": 47,
   "id": "8f21d2c2",
   "metadata": {},
   "outputs": [
    {
     "data": {
      "text/plain": [
       "<tf.Tensor: shape=(), dtype=float32, numpy=28.589094>"
      ]
     },
     "execution_count": 47,
     "metadata": {},
     "output_type": "execute_result"
    }
   ],
   "source": [
    "# Get standard deviation of tensor\n",
    "\n",
    "tf.math.reduce_std(tf.cast(A,dtype=tf.float32))"
   ]
  },
  {
   "cell_type": "markdown",
   "id": "aedb7e51",
   "metadata": {},
   "source": [
    "# Find the positional maximum and minimum"
   ]
  },
  {
   "cell_type": "code",
   "execution_count": 55,
   "id": "91bee498",
   "metadata": {},
   "outputs": [],
   "source": [
    "mat=tf.random.Generator.from_seed(42)\n",
    "mat=mat.uniform(shape=[50])"
   ]
  },
  {
   "cell_type": "code",
   "execution_count": 56,
   "id": "f32de1ea",
   "metadata": {},
   "outputs": [
    {
     "data": {
      "text/plain": [
       "<tf.Tensor: shape=(50,), dtype=float32, numpy=\n",
       "array([0.7493447 , 0.73561966, 0.45230794, 0.49039817, 0.1889317 ,\n",
       "       0.52027524, 0.8736881 , 0.46921718, 0.63932586, 0.6467117 ,\n",
       "       0.96246755, 0.41009164, 0.86540747, 0.8862978 , 0.27795732,\n",
       "       0.8857763 , 0.2179842 , 0.29115117, 0.03953862, 0.8136791 ,\n",
       "       0.8139852 , 0.52180684, 0.12496924, 0.5488483 , 0.7755773 ,\n",
       "       0.6184403 , 0.24936223, 0.89341843, 0.28422844, 0.70332646,\n",
       "       0.2622137 , 0.4432162 , 0.466465  , 0.05981874, 0.40098202,\n",
       "       0.69292355, 0.1284684 , 0.22770369, 0.33691216, 0.5329138 ,\n",
       "       0.5914326 , 0.21738243, 0.5322075 , 0.05148339, 0.03951418,\n",
       "       0.41866875, 0.78939915, 0.04384279, 0.96955836, 0.49116182],\n",
       "      dtype=float32)>"
      ]
     },
     "execution_count": 56,
     "metadata": {},
     "output_type": "execute_result"
    }
   ],
   "source": [
    "mat"
   ]
  },
  {
   "cell_type": "code",
   "execution_count": 57,
   "id": "753a4d2e",
   "metadata": {},
   "outputs": [
    {
     "data": {
      "text/plain": [
       "<tf.Tensor: shape=(), dtype=int64, numpy=48>"
      ]
     },
     "execution_count": 57,
     "metadata": {},
     "output_type": "execute_result"
    }
   ],
   "source": [
    "# Find positional Maximum\n",
    "\n",
    "tf.argmax(mat)"
   ]
  },
  {
   "cell_type": "code",
   "execution_count": 58,
   "id": "94a06b64",
   "metadata": {},
   "outputs": [
    {
     "data": {
      "text/plain": [
       "<tf.Tensor: shape=(), dtype=float32, numpy=0.96955836>"
      ]
     },
     "execution_count": 58,
     "metadata": {},
     "output_type": "execute_result"
    }
   ],
   "source": [
    "mat[tf.argmax(mat)]"
   ]
  },
  {
   "cell_type": "code",
   "execution_count": 59,
   "id": "512555cd",
   "metadata": {},
   "outputs": [
    {
     "data": {
      "text/plain": [
       "<tf.Tensor: shape=(), dtype=bool, numpy=True>"
      ]
     },
     "execution_count": 59,
     "metadata": {},
     "output_type": "execute_result"
    }
   ],
   "source": [
    "#Check for equality\n",
    "\n",
    "mat[tf.argmax(mat)]==tf.reduce_max(mat)"
   ]
  },
  {
   "cell_type": "code",
   "execution_count": 60,
   "id": "f655e53e",
   "metadata": {},
   "outputs": [
    {
     "data": {
      "text/plain": [
       "<tf.Tensor: shape=(), dtype=int64, numpy=44>"
      ]
     },
     "execution_count": 60,
     "metadata": {},
     "output_type": "execute_result"
    }
   ],
   "source": [
    "# Find positional minimum\n",
    "\n",
    "tf.argmin(mat)"
   ]
  },
  {
   "cell_type": "markdown",
   "id": "6abfdf5e",
   "metadata": {},
   "source": [
    "# Squeezing of a tensor"
   ]
  },
  {
   "cell_type": "code",
   "execution_count": 65,
   "id": "f1533b40",
   "metadata": {},
   "outputs": [
    {
     "data": {
      "text/plain": [
       "<tf.Tensor: shape=(1, 1, 1, 50), dtype=float32, numpy=\n",
       "array([[[[0.52757955, 0.77752113, 0.08844841, 0.15435421, 0.03486443,\n",
       "          0.9594854 , 0.00204885, 0.846756  , 0.11929381, 0.2680657 ,\n",
       "          0.904192  , 0.23151124, 0.80755043, 0.6290171 , 0.48629987,\n",
       "          0.43332565, 0.9778489 , 0.44615293, 0.4113754 , 0.11549258,\n",
       "          0.01439643, 0.663712  , 0.08440328, 0.35622096, 0.40787733,\n",
       "          0.20541596, 0.5289309 , 0.9864435 , 0.15637183, 0.90673244,\n",
       "          0.7785406 , 0.2240212 , 0.69857526, 0.4384842 , 0.986079  ,\n",
       "          0.3382069 , 0.13191617, 0.14559841, 0.15423548, 0.18280828,\n",
       "          0.39811885, 0.2816844 , 0.71723723, 0.04827571, 0.30017304,\n",
       "          0.75026035, 0.19027877, 0.6722808 , 0.6812177 , 0.01912212]]]],\n",
       "      dtype=float32)>"
      ]
     },
     "execution_count": 65,
     "metadata": {},
     "output_type": "execute_result"
    }
   ],
   "source": [
    "tf.random.Generator.from_seed(42)\n",
    "\n",
    "mat2=tf.constant(tf.random.uniform(shape=[50]),shape=(1,1,1,50))\n",
    "mat2"
   ]
  },
  {
   "cell_type": "code",
   "execution_count": 67,
   "id": "8d55d88e",
   "metadata": {},
   "outputs": [
    {
     "data": {
      "text/plain": [
       "<tf.Tensor: shape=(50,), dtype=float32, numpy=\n",
       "array([0.52757955, 0.77752113, 0.08844841, 0.15435421, 0.03486443,\n",
       "       0.9594854 , 0.00204885, 0.846756  , 0.11929381, 0.2680657 ,\n",
       "       0.904192  , 0.23151124, 0.80755043, 0.6290171 , 0.48629987,\n",
       "       0.43332565, 0.9778489 , 0.44615293, 0.4113754 , 0.11549258,\n",
       "       0.01439643, 0.663712  , 0.08440328, 0.35622096, 0.40787733,\n",
       "       0.20541596, 0.5289309 , 0.9864435 , 0.15637183, 0.90673244,\n",
       "       0.7785406 , 0.2240212 , 0.69857526, 0.4384842 , 0.986079  ,\n",
       "       0.3382069 , 0.13191617, 0.14559841, 0.15423548, 0.18280828,\n",
       "       0.39811885, 0.2816844 , 0.71723723, 0.04827571, 0.30017304,\n",
       "       0.75026035, 0.19027877, 0.6722808 , 0.6812177 , 0.01912212],\n",
       "      dtype=float32)>"
      ]
     },
     "execution_count": 67,
     "metadata": {},
     "output_type": "execute_result"
    }
   ],
   "source": [
    "mat2_squeezed=tf.squeeze(mat2)\n",
    "mat2_squeezed"
   ]
  },
  {
   "cell_type": "markdown",
   "id": "5c021257",
   "metadata": {},
   "source": [
    "# One Hot Encoding"
   ]
  },
  {
   "cell_type": "code",
   "execution_count": 70,
   "id": "4ad138c9",
   "metadata": {},
   "outputs": [
    {
     "data": {
      "text/plain": [
       "<tf.Tensor: shape=(3, 3), dtype=float32, numpy=\n",
       "array([[1., 0., 0.],\n",
       "       [0., 1., 0.],\n",
       "       [0., 0., 1.]], dtype=float32)>"
      ]
     },
     "execution_count": 70,
     "metadata": {},
     "output_type": "execute_result"
    }
   ],
   "source": [
    "colors=[0,1,2]\n",
    "\n",
    "tf.one_hot(colors,depth=3)"
   ]
  },
  {
   "cell_type": "code",
   "execution_count": 71,
   "id": "275600a5",
   "metadata": {},
   "outputs": [],
   "source": [
    "# Tensor and Numpy"
   ]
  },
  {
   "cell_type": "code",
   "execution_count": 72,
   "id": "1b36e6dd",
   "metadata": {},
   "outputs": [
    {
     "data": {
      "text/plain": [
       "<tf.Tensor: shape=(5,), dtype=int64, numpy=array([1, 2, 3, 4, 5])>"
      ]
     },
     "execution_count": 72,
     "metadata": {},
     "output_type": "execute_result"
    }
   ],
   "source": [
    "# Create a tensor from numpy array\n",
    "\n",
    "tensor1=tf.constant(np.array([1,2,3,4,5]))\n",
    "tensor1"
   ]
  },
  {
   "cell_type": "code",
   "execution_count": 73,
   "id": "6a5984c6",
   "metadata": {},
   "outputs": [
    {
     "data": {
      "text/plain": [
       "array([1, 2, 3, 4, 5])"
      ]
     },
     "execution_count": 73,
     "metadata": {},
     "output_type": "execute_result"
    }
   ],
   "source": [
    "#Convert tensor back to numpy array\n",
    "\n",
    "np.array(tensor1)"
   ]
  },
  {
   "cell_type": "code",
   "execution_count": 74,
   "id": "a356fa59",
   "metadata": {},
   "outputs": [
    {
     "data": {
      "text/plain": [
       "array([1, 2, 3, 4, 5])"
      ]
     },
     "execution_count": 74,
     "metadata": {},
     "output_type": "execute_result"
    }
   ],
   "source": [
    "tensor1.numpy()"
   ]
  },
  {
   "cell_type": "code",
   "execution_count": null,
   "id": "4f6b79d7",
   "metadata": {},
   "outputs": [],
   "source": []
  },
  {
   "cell_type": "code",
   "execution_count": 77,
   "id": "f80117c3",
   "metadata": {},
   "outputs": [
    {
     "data": {
      "text/plain": [
       "[PhysicalDevice(name='/physical_device:GPU:0', device_type='GPU')]"
      ]
     },
     "execution_count": 77,
     "metadata": {},
     "output_type": "execute_result"
    }
   ],
   "source": [
    "tf.config.list_physical_devices('GPU')"
   ]
  },
  {
   "cell_type": "code",
   "execution_count": 76,
   "id": "92cc2711",
   "metadata": {},
   "outputs": [
    {
     "name": "stdout",
     "output_type": "stream",
     "text": [
      "zsh:1: command not found: nvidia-smi\r\n"
     ]
    }
   ],
   "source": [
    "!nvidia-smi"
   ]
  },
  {
   "cell_type": "code",
   "execution_count": null,
   "id": "d027b2ec",
   "metadata": {},
   "outputs": [],
   "source": []
  }
 ],
 "metadata": {
  "kernelspec": {
   "display_name": "Python 3 (ipykernel)",
   "language": "python",
   "name": "python3"
  },
  "language_info": {
   "codemirror_mode": {
    "name": "ipython",
    "version": 3
   },
   "file_extension": ".py",
   "mimetype": "text/x-python",
   "name": "python",
   "nbconvert_exporter": "python",
   "pygments_lexer": "ipython3",
   "version": "3.8.13"
  }
 },
 "nbformat": 4,
 "nbformat_minor": 5
}
